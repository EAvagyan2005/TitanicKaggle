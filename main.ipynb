{
 "cells": [
  {
   "cell_type": "code",
   "execution_count": 1,
   "metadata": {},
   "outputs": [
    {
     "name": "stdout",
     "output_type": "stream",
     "text": [
      "WARNING:tensorflow:From c:\\ProgramData\\anaconda3\\Lib\\site-packages\\keras\\src\\losses.py:2976: The name tf.losses.sparse_softmax_cross_entropy is deprecated. Please use tf.compat.v1.losses.sparse_softmax_cross_entropy instead.\n",
      "\n"
     ]
    }
   ],
   "source": [
    "import tensorflow as tf\n",
    "import pandas as pd\n",
    "import numpy as np\n",
    "import os\n",
    "from sklearn.model_selection import train_test_split"
   ]
  },
  {
   "cell_type": "code",
   "execution_count": 2,
   "metadata": {},
   "outputs": [],
   "source": [
    "TRAIN_CSV_DIR = os.path.join(os.curdir, \"data\", \"train.csv\")\n",
    "TEST_CSV_DIR = os.path.join(os.curdir, \"data\", \"test.csv\")"
   ]
  },
  {
   "cell_type": "markdown",
   "metadata": {},
   "source": [
    "DATA NORMALIZATION"
   ]
  },
  {
   "cell_type": "code",
   "execution_count": 3,
   "metadata": {},
   "outputs": [],
   "source": [
    "train_df = pd.read_csv(TRAIN_CSV_DIR)"
   ]
  },
  {
   "cell_type": "code",
   "execution_count": 4,
   "metadata": {},
   "outputs": [],
   "source": [
    "max_age = max(train_df[\"Age\"])\n",
    "max_sibsp = max(train_df[\"SibSp\"])\n",
    "max_parch = max(train_df[\"Parch\"])\n",
    "max_fare = max(train_df[\"Fare\"])"
   ]
  },
  {
   "cell_type": "code",
   "execution_count": 5,
   "metadata": {},
   "outputs": [],
   "source": [
    "def Normalization(data):\n",
    "    data.drop(columns=[\"Cabin\", \"Ticket\", \"Name\", \"PassengerId\"], inplace=True)\n",
    "\n",
    "    data[\"Age\"] = data[\"Age\"].map(lambda x: x/max_age)\n",
    "    data[\"SibSp\"] = data[\"SibSp\"].map(lambda x: x/ max_sibsp)\n",
    "    data[\"Parch\"] = data[\"Parch\"].map(lambda x: x/ max_parch)\n",
    "    data[\"Fare\"] = data[\"Fare\"].map(lambda x: x/ max_fare)\n",
    "    categorical_columns = [\"Pclass\", \"Sex\", \"Embarked\"]\n",
    "    data = pd.get_dummies(data, columns=categorical_columns)\n",
    "    data['Age']=data['Age'].fillna(data['Age'].mean())\n",
    "    print(data)\n",
    "    return data\n",
    "    "
   ]
  },
  {
   "cell_type": "code",
   "execution_count": 6,
   "metadata": {},
   "outputs": [],
   "source": [
    "#PassengerId,Survived,Pclass,Name,Sex,Age,SibSp,Parch,Ticket,Fare,Cabin,Embarked\n",
    "# Survived -> [1, 0]\n",
    "# Pclass -> [1, 2, 3] -> should be converted to one hot vectors\n",
    "# Sex -> [\"male\", \"female\"] -> should be converted to one hot vectors \n",
    "# Age -> numbers, should be converted to [0-1]\n",
    "# SibSp -> number [0-8] should be converted to [0-1]\n",
    "# Parch -> number [0-6] should be converted to [0-1]\n",
    "# Fare -> number [0-513] should be converted to [0-1]\n",
    "# Embarked -> [\"S\", \"C\", \"Q\", nan] should be converted to one hot vectors\n",
    "\n"
   ]
  },
  {
   "cell_type": "code",
   "execution_count": 7,
   "metadata": {},
   "outputs": [
    {
     "name": "stdout",
     "output_type": "stream",
     "text": [
      "     Survived       Age  SibSp     Parch      Fare  Pclass_1  Pclass_2  \\\n",
      "0           0  0.275000  0.125  0.000000  0.014151     False     False   \n",
      "1           1  0.475000  0.125  0.000000  0.139136      True     False   \n",
      "2           1  0.325000  0.000  0.000000  0.015469     False     False   \n",
      "3           1  0.437500  0.125  0.000000  0.103644      True     False   \n",
      "4           0  0.437500  0.000  0.000000  0.015713     False     False   \n",
      "..        ...       ...    ...       ...       ...       ...       ...   \n",
      "886         0  0.337500  0.000  0.000000  0.025374     False      True   \n",
      "887         1  0.237500  0.000  0.000000  0.058556      True     False   \n",
      "888         0  0.371239  0.125  0.333333  0.045771     False     False   \n",
      "889         1  0.325000  0.000  0.000000  0.058556      True     False   \n",
      "890         0  0.400000  0.000  0.000000  0.015127     False     False   \n",
      "\n",
      "     Pclass_3  Sex_female  Sex_male  Embarked_C  Embarked_Q  Embarked_S  \n",
      "0        True       False      True       False       False        True  \n",
      "1       False        True     False        True       False       False  \n",
      "2        True        True     False       False       False        True  \n",
      "3       False        True     False       False       False        True  \n",
      "4        True       False      True       False       False        True  \n",
      "..        ...         ...       ...         ...         ...         ...  \n",
      "886     False       False      True       False       False        True  \n",
      "887     False        True     False       False       False        True  \n",
      "888      True        True     False       False       False        True  \n",
      "889     False       False      True        True       False       False  \n",
      "890      True       False      True       False        True       False  \n",
      "\n",
      "[891 rows x 13 columns]\n"
     ]
    }
   ],
   "source": [
    "new_df = Normalization(train_df)\n",
    "new_df.to_html(\"one_hot.html\")"
   ]
  },
  {
   "cell_type": "markdown",
   "metadata": {},
   "source": [
    "Split data into Train and Test"
   ]
  },
  {
   "cell_type": "code",
   "execution_count": 8,
   "metadata": {},
   "outputs": [],
   "source": [
    "y = new_df[\"Survived\"]\n",
    "x = new_df.drop(columns=[\"Survived\"])"
   ]
  },
  {
   "cell_type": "code",
   "execution_count": 9,
   "metadata": {},
   "outputs": [
    {
     "name": "stdout",
     "output_type": "stream",
     "text": [
      "<class 'pandas.core.frame.DataFrame'>\n",
      "RangeIndex: 891 entries, 0 to 890\n",
      "Data columns (total 12 columns):\n",
      " #   Column      Non-Null Count  Dtype  \n",
      "---  ------      --------------  -----  \n",
      " 0   Age         891 non-null    float64\n",
      " 1   SibSp       891 non-null    float64\n",
      " 2   Parch       891 non-null    float64\n",
      " 3   Fare        891 non-null    float64\n",
      " 4   Pclass_1    891 non-null    bool   \n",
      " 5   Pclass_2    891 non-null    bool   \n",
      " 6   Pclass_3    891 non-null    bool   \n",
      " 7   Sex_female  891 non-null    bool   \n",
      " 8   Sex_male    891 non-null    bool   \n",
      " 9   Embarked_C  891 non-null    bool   \n",
      " 10  Embarked_Q  891 non-null    bool   \n",
      " 11  Embarked_S  891 non-null    bool   \n",
      "dtypes: bool(8), float64(4)\n",
      "memory usage: 34.9 KB\n",
      "None\n"
     ]
    }
   ],
   "source": [
    "print(x.info())"
   ]
  },
  {
   "cell_type": "code",
   "execution_count": 10,
   "metadata": {},
   "outputs": [],
   "source": [
    "x_train, x_test, y_train, y_test = train_test_split(x, y, test_size=0.2, random_state=42)"
   ]
  },
  {
   "cell_type": "code",
   "execution_count": 11,
   "metadata": {},
   "outputs": [
    {
     "name": "stdout",
     "output_type": "stream",
     "text": [
      "WARNING:tensorflow:From c:\\ProgramData\\anaconda3\\Lib\\site-packages\\keras\\src\\backend.py:1398: The name tf.executing_eagerly_outside_functions is deprecated. Please use tf.compat.v1.executing_eagerly_outside_functions instead.\n",
      "\n"
     ]
    }
   ],
   "source": [
    "model = tf.keras.Sequential([\n",
    "    tf.keras.layers.Input(shape=(x_train.shape[1], )),\n",
    "    tf.keras.layers.Dense(1, activation=\"sigmoid\")\n",
    "])"
   ]
  },
  {
   "cell_type": "code",
   "execution_count": 12,
   "metadata": {},
   "outputs": [
    {
     "name": "stdout",
     "output_type": "stream",
     "text": [
      "WARNING:tensorflow:From c:\\ProgramData\\anaconda3\\Lib\\site-packages\\keras\\src\\optimizers\\__init__.py:309: The name tf.train.Optimizer is deprecated. Please use tf.compat.v1.train.Optimizer instead.\n",
      "\n"
     ]
    }
   ],
   "source": [
    "model.compile(optimizer=\"adam\", loss=\"binary_crossentropy\", metrics=[\"accuracy\"])"
   ]
  },
  {
   "cell_type": "code",
   "execution_count": 13,
   "metadata": {},
   "outputs": [],
   "source": [
    "x_train = np.asarray(x_train).astype(np.float32)\n",
    "x_test = np.asarray(x_test).astype(np.float32)"
   ]
  },
  {
   "cell_type": "code",
   "execution_count": 39,
   "metadata": {},
   "outputs": [
    {
     "name": "stdout",
     "output_type": "stream",
     "text": [
      "Epoch 1/50\n",
      "23/23 [==============================] - 0s 7ms/step - loss: 0.4746 - accuracy: 0.7823 - val_loss: 0.4755 - val_accuracy: 0.7654\n",
      "Epoch 2/50\n",
      "23/23 [==============================] - 0s 4ms/step - loss: 0.4738 - accuracy: 0.7851 - val_loss: 0.4744 - val_accuracy: 0.7654\n",
      "Epoch 3/50\n",
      "23/23 [==============================] - 0s 4ms/step - loss: 0.4730 - accuracy: 0.7865 - val_loss: 0.4733 - val_accuracy: 0.7654\n",
      "Epoch 4/50\n",
      "23/23 [==============================] - 0s 7ms/step - loss: 0.4721 - accuracy: 0.7795 - val_loss: 0.4724 - val_accuracy: 0.7709\n",
      "Epoch 5/50\n",
      "23/23 [==============================] - 0s 4ms/step - loss: 0.4714 - accuracy: 0.7795 - val_loss: 0.4713 - val_accuracy: 0.7709\n",
      "Epoch 6/50\n",
      "23/23 [==============================] - 0s 4ms/step - loss: 0.4706 - accuracy: 0.7781 - val_loss: 0.4703 - val_accuracy: 0.7709\n",
      "Epoch 7/50\n",
      "23/23 [==============================] - 0s 4ms/step - loss: 0.4700 - accuracy: 0.7781 - val_loss: 0.4695 - val_accuracy: 0.7709\n",
      "Epoch 8/50\n",
      "23/23 [==============================] - 0s 4ms/step - loss: 0.4694 - accuracy: 0.7781 - val_loss: 0.4687 - val_accuracy: 0.7709\n",
      "Epoch 9/50\n",
      "23/23 [==============================] - 0s 4ms/step - loss: 0.4687 - accuracy: 0.7781 - val_loss: 0.4679 - val_accuracy: 0.7709\n",
      "Epoch 10/50\n",
      "23/23 [==============================] - 0s 4ms/step - loss: 0.4683 - accuracy: 0.7781 - val_loss: 0.4671 - val_accuracy: 0.7709\n",
      "Epoch 11/50\n",
      "23/23 [==============================] - 0s 4ms/step - loss: 0.4676 - accuracy: 0.7781 - val_loss: 0.4664 - val_accuracy: 0.7709\n",
      "Epoch 12/50\n",
      "23/23 [==============================] - 0s 4ms/step - loss: 0.4673 - accuracy: 0.7823 - val_loss: 0.4657 - val_accuracy: 0.7989\n",
      "Epoch 13/50\n",
      "23/23 [==============================] - 0s 4ms/step - loss: 0.4667 - accuracy: 0.7865 - val_loss: 0.4650 - val_accuracy: 0.7877\n",
      "Epoch 14/50\n",
      "23/23 [==============================] - 0s 4ms/step - loss: 0.4663 - accuracy: 0.7865 - val_loss: 0.4643 - val_accuracy: 0.7933\n",
      "Epoch 15/50\n",
      "23/23 [==============================] - 0s 5ms/step - loss: 0.4656 - accuracy: 0.7851 - val_loss: 0.4637 - val_accuracy: 0.7933\n",
      "Epoch 16/50\n",
      "23/23 [==============================] - 0s 5ms/step - loss: 0.4652 - accuracy: 0.7837 - val_loss: 0.4631 - val_accuracy: 0.7989\n",
      "Epoch 17/50\n",
      "23/23 [==============================] - 0s 5ms/step - loss: 0.4648 - accuracy: 0.7851 - val_loss: 0.4624 - val_accuracy: 0.7989\n",
      "Epoch 18/50\n",
      "23/23 [==============================] - 0s 5ms/step - loss: 0.4643 - accuracy: 0.7879 - val_loss: 0.4618 - val_accuracy: 0.7877\n",
      "Epoch 19/50\n",
      "23/23 [==============================] - 0s 5ms/step - loss: 0.4639 - accuracy: 0.7879 - val_loss: 0.4613 - val_accuracy: 0.7821\n",
      "Epoch 20/50\n",
      "23/23 [==============================] - 0s 4ms/step - loss: 0.4635 - accuracy: 0.7893 - val_loss: 0.4607 - val_accuracy: 0.7821\n",
      "Epoch 21/50\n",
      "23/23 [==============================] - 0s 4ms/step - loss: 0.4631 - accuracy: 0.7893 - val_loss: 0.4602 - val_accuracy: 0.7821\n",
      "Epoch 22/50\n",
      "23/23 [==============================] - 0s 5ms/step - loss: 0.4629 - accuracy: 0.7893 - val_loss: 0.4597 - val_accuracy: 0.7877\n",
      "Epoch 23/50\n",
      "23/23 [==============================] - 0s 4ms/step - loss: 0.4623 - accuracy: 0.7893 - val_loss: 0.4592 - val_accuracy: 0.7821\n",
      "Epoch 24/50\n",
      "23/23 [==============================] - 0s 5ms/step - loss: 0.4621 - accuracy: 0.7907 - val_loss: 0.4587 - val_accuracy: 0.7821\n",
      "Epoch 25/50\n",
      "23/23 [==============================] - 0s 8ms/step - loss: 0.4618 - accuracy: 0.7907 - val_loss: 0.4582 - val_accuracy: 0.7821\n",
      "Epoch 26/50\n",
      "23/23 [==============================] - 0s 4ms/step - loss: 0.4614 - accuracy: 0.7893 - val_loss: 0.4577 - val_accuracy: 0.7821\n",
      "Epoch 27/50\n",
      "23/23 [==============================] - 0s 4ms/step - loss: 0.4610 - accuracy: 0.7893 - val_loss: 0.4573 - val_accuracy: 0.7821\n",
      "Epoch 28/50\n",
      "23/23 [==============================] - 0s 4ms/step - loss: 0.4608 - accuracy: 0.7893 - val_loss: 0.4569 - val_accuracy: 0.7877\n",
      "Epoch 29/50\n",
      "23/23 [==============================] - 0s 4ms/step - loss: 0.4604 - accuracy: 0.7893 - val_loss: 0.4563 - val_accuracy: 0.7877\n",
      "Epoch 30/50\n",
      "23/23 [==============================] - 0s 4ms/step - loss: 0.4601 - accuracy: 0.7907 - val_loss: 0.4558 - val_accuracy: 0.7877\n",
      "Epoch 31/50\n",
      "23/23 [==============================] - 0s 5ms/step - loss: 0.4598 - accuracy: 0.7893 - val_loss: 0.4555 - val_accuracy: 0.7877\n",
      "Epoch 32/50\n",
      "23/23 [==============================] - 0s 4ms/step - loss: 0.4596 - accuracy: 0.7865 - val_loss: 0.4551 - val_accuracy: 0.7877\n",
      "Epoch 33/50\n",
      "23/23 [==============================] - 0s 4ms/step - loss: 0.4595 - accuracy: 0.7879 - val_loss: 0.4548 - val_accuracy: 0.7821\n",
      "Epoch 34/50\n",
      "23/23 [==============================] - 0s 4ms/step - loss: 0.4592 - accuracy: 0.7865 - val_loss: 0.4545 - val_accuracy: 0.7877\n",
      "Epoch 35/50\n",
      "23/23 [==============================] - 0s 4ms/step - loss: 0.4589 - accuracy: 0.7865 - val_loss: 0.4542 - val_accuracy: 0.7877\n",
      "Epoch 36/50\n",
      "23/23 [==============================] - 0s 4ms/step - loss: 0.4588 - accuracy: 0.7879 - val_loss: 0.4539 - val_accuracy: 0.7821\n",
      "Epoch 37/50\n",
      "23/23 [==============================] - 0s 4ms/step - loss: 0.4585 - accuracy: 0.7879 - val_loss: 0.4537 - val_accuracy: 0.7877\n",
      "Epoch 38/50\n",
      "23/23 [==============================] - 0s 4ms/step - loss: 0.4584 - accuracy: 0.7879 - val_loss: 0.4533 - val_accuracy: 0.7877\n",
      "Epoch 39/50\n",
      "23/23 [==============================] - 0s 4ms/step - loss: 0.4581 - accuracy: 0.7879 - val_loss: 0.4531 - val_accuracy: 0.7821\n",
      "Epoch 40/50\n",
      "23/23 [==============================] - 0s 4ms/step - loss: 0.4580 - accuracy: 0.7879 - val_loss: 0.4528 - val_accuracy: 0.7877\n",
      "Epoch 41/50\n",
      "23/23 [==============================] - 0s 4ms/step - loss: 0.4577 - accuracy: 0.7879 - val_loss: 0.4524 - val_accuracy: 0.7877\n",
      "Epoch 42/50\n",
      "23/23 [==============================] - 0s 4ms/step - loss: 0.4575 - accuracy: 0.7879 - val_loss: 0.4521 - val_accuracy: 0.7821\n",
      "Epoch 43/50\n",
      "23/23 [==============================] - 0s 6ms/step - loss: 0.4573 - accuracy: 0.7879 - val_loss: 0.4517 - val_accuracy: 0.7821\n",
      "Epoch 44/50\n",
      "23/23 [==============================] - 0s 4ms/step - loss: 0.4571 - accuracy: 0.7893 - val_loss: 0.4515 - val_accuracy: 0.7821\n",
      "Epoch 45/50\n",
      "23/23 [==============================] - 0s 4ms/step - loss: 0.4569 - accuracy: 0.7893 - val_loss: 0.4513 - val_accuracy: 0.7821\n",
      "Epoch 46/50\n",
      "23/23 [==============================] - 0s 4ms/step - loss: 0.4568 - accuracy: 0.7879 - val_loss: 0.4510 - val_accuracy: 0.7821\n",
      "Epoch 47/50\n",
      "23/23 [==============================] - 0s 4ms/step - loss: 0.4566 - accuracy: 0.7893 - val_loss: 0.4508 - val_accuracy: 0.7821\n",
      "Epoch 48/50\n",
      "23/23 [==============================] - 0s 4ms/step - loss: 0.4564 - accuracy: 0.7893 - val_loss: 0.4505 - val_accuracy: 0.7821\n",
      "Epoch 49/50\n",
      "23/23 [==============================] - 0s 4ms/step - loss: 0.4563 - accuracy: 0.7893 - val_loss: 0.4503 - val_accuracy: 0.7821\n",
      "Epoch 50/50\n",
      "23/23 [==============================] - 0s 4ms/step - loss: 0.4562 - accuracy: 0.7893 - val_loss: 0.4501 - val_accuracy: 0.7821\n"
     ]
    },
    {
     "data": {
      "text/plain": [
       "<keras.src.callbacks.History at 0x2a6ddf83350>"
      ]
     },
     "execution_count": 39,
     "metadata": {},
     "output_type": "execute_result"
    }
   ],
   "source": [
    "model.fit(x_train, y_train, epochs=50, batch_size=32, validation_data=[x_test, y_test])"
   ]
  },
  {
   "cell_type": "code",
   "execution_count": 40,
   "metadata": {},
   "outputs": [
    {
     "name": "stderr",
     "output_type": "stream",
     "text": [
      "c:\\ProgramData\\anaconda3\\Lib\\site-packages\\keras\\src\\engine\\training.py:3103: UserWarning: You are saving your model as an HDF5 file via `model.save()`. This file format is considered legacy. We recommend using instead the native Keras format, e.g. `model.save('my_model.keras')`.\n",
      "  saving_api.save_model(\n"
     ]
    }
   ],
   "source": [
    "model.save(os.path.join(os.curdir, \"models\", \"my_model.h5\"))"
   ]
  },
  {
   "cell_type": "code",
   "execution_count": 15,
   "metadata": {},
   "outputs": [
    {
     "name": "stdout",
     "output_type": "stream",
     "text": [
      "          Age  SibSp     Parch      Fare  Pclass_1  Pclass_2  Pclass_3  \\\n",
      "0    0.431250  0.000  0.000000  0.015282     False     False      True   \n",
      "1    0.587500  0.125  0.000000  0.013663     False     False      True   \n",
      "2    0.775000  0.000  0.000000  0.018909     False      True     False   \n",
      "3    0.337500  0.000  0.000000  0.016908     False     False      True   \n",
      "4    0.275000  0.125  0.166667  0.023984     False     False      True   \n",
      "..        ...    ...       ...       ...       ...       ...       ...   \n",
      "413  0.378407  0.000  0.000000  0.015713     False     False      True   \n",
      "414  0.487500  0.000  0.000000  0.212559      True     False     False   \n",
      "415  0.481250  0.000  0.000000  0.014151     False     False      True   \n",
      "416  0.378407  0.000  0.000000  0.015713     False     False      True   \n",
      "417  0.378407  0.125  0.166667  0.043640     False     False      True   \n",
      "\n",
      "     Sex_female  Sex_male  Embarked_C  Embarked_Q  Embarked_S  \n",
      "0         False      True       False        True       False  \n",
      "1          True     False       False       False        True  \n",
      "2         False      True       False        True       False  \n",
      "3         False      True       False       False        True  \n",
      "4          True     False       False       False        True  \n",
      "..          ...       ...         ...         ...         ...  \n",
      "413       False      True       False       False        True  \n",
      "414        True     False        True       False       False  \n",
      "415       False      True       False       False        True  \n",
      "416       False      True       False       False        True  \n",
      "417       False      True        True       False       False  \n",
      "\n",
      "[418 rows x 12 columns]\n",
      "14/14 [==============================] - 0s 2ms/step - loss: 0.0000e+00 - accuracy: 0.0000e+00\n"
     ]
    },
    {
     "data": {
      "text/plain": [
       "[0.0, 0.0]"
      ]
     },
     "execution_count": 15,
     "metadata": {},
     "output_type": "execute_result"
    }
   ],
   "source": [
    "test_df = pd.read_csv(TEST_CSV_DIR)\n",
    "test_df = Normalization(test_df)\n",
    "test_df = np.asarray(test_df).astype(np.float32)\n",
    "model.evaluate(test_df)"
   ]
  },
  {
   "cell_type": "code",
   "execution_count": 33,
   "metadata": {},
   "outputs": [
    {
     "name": "stdout",
     "output_type": "stream",
     "text": [
      "14/14 [==============================] - 0s 2ms/step\n"
     ]
    }
   ],
   "source": [
    "arr = model.predict(test_df)\n"
   ]
  },
  {
   "cell_type": "code",
   "execution_count": 35,
   "metadata": {},
   "outputs": [],
   "source": [
    "new_arr = []\n",
    "for i in list(arr):\n",
    "    if float(i) >=0.5: \n",
    "        new_arr.append(1)\n",
    "    else:\n",
    "        new_arr.append(0)"
   ]
  },
  {
   "cell_type": "code",
   "execution_count": 36,
   "metadata": {},
   "outputs": [
    {
     "name": "stdout",
     "output_type": "stream",
     "text": [
      "{'PassengerId': [892, 893, 894, 895, 896, 897, 898, 899, 900, 901, 902, 903, 904, 905, 906, 907, 908, 909, 910, 911, 912, 913, 914, 915, 916, 917, 918, 919, 920, 921, 922, 923, 924, 925, 926, 927, 928, 929, 930, 931, 932, 933, 934, 935, 936, 937, 938, 939, 940, 941, 942, 943, 944, 945, 946, 947, 948, 949, 950, 951, 952, 953, 954, 955, 956, 957, 958, 959, 960, 961, 962, 963, 964, 965, 966, 967, 968, 969, 970, 971, 972, 973, 974, 975, 976, 977, 978, 979, 980, 981, 982, 983, 984, 985, 986, 987, 988, 989, 990, 991, 992, 993, 994, 995, 996, 997, 998, 999, 1000, 1001, 1002, 1003, 1004, 1005, 1006, 1007, 1008, 1009, 1010, 1011, 1012, 1013, 1014, 1015, 1016, 1017, 1018, 1019, 1020, 1021, 1022, 1023, 1024, 1025, 1026, 1027, 1028, 1029, 1030, 1031, 1032, 1033, 1034, 1035, 1036, 1037, 1038, 1039, 1040, 1041, 1042, 1043, 1044, 1045, 1046, 1047, 1048, 1049, 1050, 1051, 1052, 1053, 1054, 1055, 1056, 1057, 1058, 1059, 1060, 1061, 1062, 1063, 1064, 1065, 1066, 1067, 1068, 1069, 1070, 1071, 1072, 1073, 1074, 1075, 1076, 1077, 1078, 1079, 1080, 1081, 1082, 1083, 1084, 1085, 1086, 1087, 1088, 1089, 1090, 1091, 1092, 1093, 1094, 1095, 1096, 1097, 1098, 1099, 1100, 1101, 1102, 1103, 1104, 1105, 1106, 1107, 1108, 1109, 1110, 1111, 1112, 1113, 1114, 1115, 1116, 1117, 1118, 1119, 1120, 1121, 1122, 1123, 1124, 1125, 1126, 1127, 1128, 1129, 1130, 1131, 1132, 1133, 1134, 1135, 1136, 1137, 1138, 1139, 1140, 1141, 1142, 1143, 1144, 1145, 1146, 1147, 1148, 1149, 1150, 1151, 1152, 1153, 1154, 1155, 1156, 1157, 1158, 1159, 1160, 1161, 1162, 1163, 1164, 1165, 1166, 1167, 1168, 1169, 1170, 1171, 1172, 1173, 1174, 1175, 1176, 1177, 1178, 1179, 1180, 1181, 1182, 1183, 1184, 1185, 1186, 1187, 1188, 1189, 1190, 1191, 1192, 1193, 1194, 1195, 1196, 1197, 1198, 1199, 1200, 1201, 1202, 1203, 1204, 1205, 1206, 1207, 1208, 1209, 1210, 1211, 1212, 1213, 1214, 1215, 1216, 1217, 1218, 1219, 1220, 1221, 1222, 1223, 1224, 1225, 1226, 1227, 1228, 1229, 1230, 1231, 1232, 1233, 1234, 1235, 1236, 1237, 1238, 1239, 1240, 1241, 1242, 1243, 1244, 1245, 1246, 1247, 1248, 1249, 1250, 1251, 1252, 1253, 1254, 1255, 1256, 1257, 1258, 1259, 1260, 1261, 1262, 1263, 1264, 1265, 1266, 1267, 1268, 1269, 1270, 1271, 1272, 1273, 1274, 1275, 1276, 1277, 1278, 1279, 1280, 1281, 1282, 1283, 1284, 1285, 1286, 1287, 1288, 1289, 1290, 1291, 1292, 1293, 1294, 1295, 1296, 1297, 1298, 1299, 1300, 1301, 1302, 1303, 1304, 1305, 1306, 1307, 1308, 1309], 'Survived': [0, 0, 0, 0, 1, 0, 0, 0, 1, 0, 0, 0, 1, 0, 1, 1, 0, 0, 1, 1, 0, 0, 1, 0, 1, 0, 1, 0, 0, 0, 0, 0, 1, 1, 0, 0, 1, 1, 0, 0, 0, 0, 0, 1, 1, 0, 0, 0, 1, 1, 0, 0, 1, 1, 0, 0, 0, 0, 0, 1, 0, 0, 0, 0, 1, 1, 0, 0, 0, 1, 0, 0, 1, 0, 1, 0, 0, 1, 0, 0, 0, 0, 0, 0, 0, 0, 0, 1, 0, 0, 1, 0, 1, 0, 0, 0, 1, 0, 1, 0, 1, 0, 0, 0, 1, 0, 0, 0, 0, 0, 0, 0, 1, 0, 1, 0, 0, 1, 0, 1, 1, 0, 1, 0, 0, 1, 0, 0, 0, 0, 0, 0, 1, 0, 0, 0, 0, 0, 1, 0, 1, 1, 0, 0, 0, 0, 0, 0, 0, 0, 1, 0, 0, 1, 0, 0, 1, 1, 0, 1, 0, 0, 1, 0, 0, 1, 0, 0, 1, 1, 0, 0, 0, 0, 0, 1, 1, 0, 1, 1, 0, 0, 1, 0, 1, 0, 1, 0, 0, 0, 0, 0, 0, 0, 0, 0, 1, 1, 0, 1, 0, 0, 0, 1, 0, 0, 0, 0, 1, 0, 0, 0, 0, 1, 0, 0, 0, 0, 1, 0, 1, 0, 1, 0, 1, 1, 0, 0, 0, 0, 0, 1, 0, 0, 0, 0, 0, 0, 1, 1, 1, 1, 0, 0, 0, 0, 1, 0, 1, 1, 1, 0, 0, 0, 0, 0, 0, 0, 1, 0, 0, 0, 1, 1, 0, 0, 0, 0, 1, 0, 0, 0, 1, 0, 0, 1, 0, 0, 0, 0, 1, 0, 0, 1, 1, 0, 0, 0, 0, 0, 0, 0, 0, 0, 0, 0, 1, 0, 0, 0, 0, 0, 0, 0, 0, 1, 0, 0, 0, 0, 0, 0, 0, 0, 1, 0, 0, 0, 0, 0, 0, 0, 0, 0, 1, 0, 1, 0, 0, 0, 1, 0, 0, 1, 0, 0, 0, 0, 0, 0, 0, 0, 0, 1, 0, 1, 0, 1, 0, 1, 1, 0, 0, 0, 1, 0, 1, 0, 0, 1, 0, 1, 1, 0, 1, 1, 0, 1, 1, 0, 0, 1, 0, 0, 1, 1, 1, 0, 0, 0, 0, 0, 1, 1, 0, 1, 0, 0, 0, 0, 0, 1, 0, 0, 0, 1, 0, 1, 0, 0, 1, 0, 1, 0, 0, 0, 0, 0, 0, 1, 0, 1, 1, 0, 1, 0, 0, 0]}\n"
     ]
    }
   ],
   "source": [
    "ans_d = {\"PassengerId\" : [x for x in range(892, 1310)], \"Survived\" : new_arr}\n",
    "print(ans_d)"
   ]
  },
  {
   "cell_type": "code",
   "execution_count": 38,
   "metadata": {},
   "outputs": [],
   "source": [
    "ans = pd.DataFrame(ans_d)\n",
    "ans.to_csv(\"answers.csv\", index=False)\n"
   ]
  },
  {
   "cell_type": "code",
   "execution_count": null,
   "metadata": {},
   "outputs": [],
   "source": []
  }
 ],
 "metadata": {
  "kernelspec": {
   "display_name": "base",
   "language": "python",
   "name": "python3"
  },
  "language_info": {
   "codemirror_mode": {
    "name": "ipython",
    "version": 3
   },
   "file_extension": ".py",
   "mimetype": "text/x-python",
   "name": "python",
   "nbconvert_exporter": "python",
   "pygments_lexer": "ipython3",
   "version": "3.11.5"
  },
  "orig_nbformat": 4
 },
 "nbformat": 4,
 "nbformat_minor": 2
}
